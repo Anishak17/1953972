{
 "cells": [
  {
   "cell_type": "code",
   "execution_count": 1,
   "id": "30b13c6d",
   "metadata": {},
   "outputs": [],
   "source": [
    "import pandas as pd\n",
    "d={1:\"Add grocery items to store  [name, quantity, price] :\",2:\"Buy grocery items from store [name, quantity] :\",3:\"exit\"}\n",
    "a,g={},{}"
   ]
  },
  {
   "cell_type": "code",
   "execution_count": 2,
   "id": "63085e93",
   "metadata": {},
   "outputs": [],
   "source": [
    "def dis(y,c):\n",
    "    df=pd.DataFrame(y).T\n",
    "    df.columns = c\n",
    "    print(df)\n",
    "    return pd.DataFrame(df.iloc[:,1:].to_dict(),index=df.iloc[:,0])"
   ]
  },
  {
   "cell_type": "code",
   "execution_count": 3,
   "id": "0de280a5",
   "metadata": {},
   "outputs": [],
   "source": [
    "def ask():\n",
    "    while(True):\n",
    "        [print(\"\\npress\",i,\"to\",j) for i,j in d.items()]\n",
    "        x=int(input())\n",
    "        \n",
    "        if x==1:\n",
    "            get(a,x)\n",
    "            dis(a,[\"name\",\"quantity\",\"price\"]).to_excel(\"grocery_store.xlsx\")  \n",
    "            \n",
    "        elif x==2:\n",
    "            for i in range(len(pd.read_excel(\"grocery_store.xlsx\"))):\n",
    "                l=list(pd.read_excel(\"grocery_store.xlsx\").reset_index(drop=True).iloc[i])\n",
    "                a[l[0]]=l\n",
    "                \n",
    "            try:\n",
    "                dis(a, [\"name\",\"quantity\",\"price\"])\n",
    "                get(a,x)\n",
    "                dis(g,[\"name\",\"quantity\",\"price\",\"total\"]).to_excel(\"grocery_store_item_purchased.xlsx\")\n",
    "                dis(a,[\"name\",\"remaining\",\"price\"]).to_excel(\"grocery_store_item_remain.xlsx\")\n",
    "            except Exception as e:\n",
    "                print(e)\n",
    "            \n",
    "        elif x==3:\n",
    "            print(\"Thanks\")\n",
    "            break\n",
    "        \n",
    "        else:\n",
    "            print(\"Wrong input\")"
   ]
  },
  {
   "cell_type": "code",
   "execution_count": 4,
   "id": "aae7b47a",
   "metadata": {},
   "outputs": [],
   "source": [
    "def get(a,x):\n",
    "    while(True):\n",
    "        s=input(d[x]).split()\n",
    "        \n",
    "        if x==1:\n",
    "            a[s[0]]=s\n",
    "        else:\n",
    "            if s[0] in a and int(s[1])<=int(a[s[0]][1]) and len(s)==2:\n",
    "                g[s[0]]=[s[0],int(s[1]),a[s[0]][2],int(s[1])*int(a[s[0]][2])]\n",
    "                a[s[0]]=[s[0],max(0,int(a[s[0]][1])-int(s[1])),int(a[s[0]][2])]\n",
    "            else:\n",
    "                print(\"sufficient\",s[0], \"not available\")\n",
    "        \n",
    "        if(input(\"Continue? y/n  :\") not in [\"y\",\"Y\"]):\n",
    "            print(\"you can not\",d[x][:28])\n",
    "            del d[x]\n",
    "            break          "
   ]
  },
  {
   "cell_type": "code",
   "execution_count": 5,
   "id": "8ac9187c",
   "metadata": {},
   "outputs": [
    {
     "name": "stdout",
     "output_type": "stream",
     "text": [
      "\n",
      "press 1 to Add grocery items to store  [name, quantity, price] :\n",
      "\n",
      "press 2 to Buy grocery items from store [name, quantity] :\n",
      "\n",
      "press 3 to exit\n",
      "1\n",
      "Add grocery items to store  [name, quantity, price] :a 8 3\n",
      "Continue? y/n  :y\n",
      "Add grocery items to store  [name, quantity, price] :b 5 7\n",
      "Continue? y/n  :y\n",
      "Add grocery items to store  [name, quantity, price] :c 3 9\n",
      "Continue? y/n  :n\n",
      "you can not Add grocery items to store  \n",
      "  name quantity price\n",
      "a    a        8     3\n",
      "b    b        5     7\n",
      "c    c        3     9\n",
      "\n",
      "press 2 to Buy grocery items from store [name, quantity] :\n",
      "\n",
      "press 3 to exit\n",
      "3\n",
      "Thanks\n"
     ]
    }
   ],
   "source": [
    "ask()"
   ]
  },
  {
   "cell_type": "code",
   "execution_count": 5,
   "id": "71825850",
   "metadata": {},
   "outputs": [
    {
     "name": "stdout",
     "output_type": "stream",
     "text": [
      "\n",
      "press 1 to Add grocery items to store  [name, quantity, price] :\n",
      "\n",
      "press 2 to Buy grocery items from store [name, quantity] :\n",
      "\n",
      "press 3 to exit\n",
      "2\n",
      "  name quantity price\n",
      "a    a        8     3\n",
      "b    b        5     7\n",
      "c    c        3     9\n",
      "Buy grocery items from store [name, quantity] :e 5\n",
      "sufficient e not available\n",
      "Continue? y/n  :y\n",
      "Buy grocery items from store [name, quantity] :b 1\n",
      "Continue? y/n  :y\n",
      "Buy grocery items from store [name, quantity] :c 4\n",
      "sufficient c not available\n",
      "Continue? y/n  :y\n",
      "Buy grocery items from store [name, quantity] :a 6\n",
      "Continue? y/n  :y\n",
      "Buy grocery items from store [name, quantity] :c 2\n",
      "Continue? y/n  :n\n",
      "you can not Buy grocery items from store\n",
      "  name quantity price total\n",
      "b    b        1     7     7\n",
      "a    a        6     3    18\n",
      "c    c        2     9    18\n",
      "  name remaining price\n",
      "a    a         2     3\n",
      "b    b         4     7\n",
      "c    c         1     9\n",
      "\n",
      "press 1 to Add grocery items to store  [name, quantity, price] :\n",
      "\n",
      "press 3 to exit\n",
      "3\n",
      "Thanks\n"
     ]
    }
   ],
   "source": [
    "ask()"
   ]
  }
 ],
 "metadata": {
  "kernelspec": {
   "display_name": "Python 3 (ipykernel)",
   "language": "python",
   "name": "python3"
  },
  "language_info": {
   "codemirror_mode": {
    "name": "ipython",
    "version": 3
   },
   "file_extension": ".py",
   "mimetype": "text/x-python",
   "name": "python",
   "nbconvert_exporter": "python",
   "pygments_lexer": "ipython3",
   "version": "3.9.7"
  }
 },
 "nbformat": 4,
 "nbformat_minor": 5
}
