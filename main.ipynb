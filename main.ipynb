{
 "cells": [
  {
   "cell_type": "code",
   "execution_count": null,
   "id": "055503ec",
   "metadata": {},
   "outputs": [],
   "source": [
    "import pandas as pd\n",
    "d={1:\"Add grocery items to store  [name, quantity, price] :\",2:\"Buy grocery items from store [name, quantity] :\",3:\"exit\"}\n",
    "a,g={},{}"
   ]
  },
  {
   "cell_type": "code",
   "execution_count": null,
   "id": "430f8265",
   "metadata": {},
   "outputs": [],
   "source": [
    "def dis(y,c):\n",
    "    df=pd.DataFrame(y,index=c).T\n",
    "    print(df)\n",
    "    return df.set_index('name')"
   ]
  },
  {
   "cell_type": "code",
   "execution_count": null,
   "id": "7c3921c9",
   "metadata": {},
   "outputs": [],
   "source": [
    "def ask():\n",
    "    while(True):\n",
    "        try:\n",
    "            [print(\"\\npress\",i,\"to\",j) for i,j in d.items()]\n",
    "            x=int(input())\n",
    "            \n",
    "            if x==1:\n",
    "                get(a,x)\n",
    "                dis(a,[\"name\",\"quantity\",\"price\"]).to_excel(\"grocery_store.xlsx\")  \n",
    "                \n",
    "            elif x==2:\n",
    "                p=pd.read_excel(\"grocery_store.xlsx\")\n",
    "                for i in range(len(p)):\n",
    "                    a[p.iloc[i,0]]=list(p.iloc[i,:])\n",
    "                \n",
    "                dis(a, [\"name\",\"quantity\",\"price\"])\n",
    "                get(a,x)\n",
    "                dis(g,[\"name\",\"quantity\",\"price\",\"total\"]).to_excel(\"grocery_store_item_purchased.xlsx\")\n",
    "                dis(a,[\"name\",\"remaining\",\"price\"]).to_excel(\"grocery_store_item_remain.xlsx\")\n",
    "    \n",
    "            elif x==3:\n",
    "                print(\"Thanks\")\n",
    "                break\n",
    "            \n",
    "            else:\n",
    "                print(\"Wrong input\")\n",
    "        except Exception as e:\n",
    "            print(e)"
   ]
  },
  {
   "cell_type": "code",
   "execution_count": null,
   "id": "28dd84ce",
   "metadata": {},
   "outputs": [],
   "source": [
    "def get(a,x):\n",
    "    while(True):\n",
    "        s=input(d[x]).split()\n",
    "        \n",
    "        if x==1:\n",
    "            a[s[0]]=s\n",
    "        else:\n",
    "            if s[0] in a and int(s[1])<=int(a[s[0]][1]) and len(s)==2:\n",
    "                g[s[0]]=[s[0],int(s[1]),a[s[0]][2],int(s[1])*int(a[s[0]][2])]\n",
    "                a[s[0]]=[s[0],int(a[s[0]][1])-int(s[1]),int(a[s[0]][2])]\n",
    "            else:\n",
    "                print(\"sufficient\",s[0], \"not available\")\n",
    "        \n",
    "        if(input(\"Continue? y/n  :\") not in [\"y\",\"Y\"]):\n",
    "            print(\"you can not\",d[x][:28])\n",
    "            del d[x]\n",
    "            break"
   ]
  },
  {
   "cell_type": "code",
   "execution_count": null,
   "id": "76d45cf1",
   "metadata": {},
   "outputs": [],
   "source": [
    "ask()"
   ]
  }
 ],
 "metadata": {
  "kernelspec": {
   "display_name": "Python 3 (ipykernel)",
   "language": "python",
   "name": "python3"
  },
  "language_info": {
   "codemirror_mode": {
    "name": "ipython",
    "version": 3
   },
   "file_extension": ".py",
   "mimetype": "text/x-python",
   "name": "python",
   "nbconvert_exporter": "python",
   "pygments_lexer": "ipython3",
   "version": "3.9.7"
  }
 },
 "nbformat": 4,
 "nbformat_minor": 5
}
