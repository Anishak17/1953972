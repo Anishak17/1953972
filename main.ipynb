{
 "cells": [
  {
   "cell_type": "code",
   "execution_count": 1,
   "id": "f9c0342e",
   "metadata": {},
   "outputs": [],
   "source": [
    "import pandas as pd\n",
    "\n",
    "d={1:\"Add grocery items to store  [name, quantity, price] :\",2:\"Buy grocery items from store [name, quantity] :\",3:\"exit\"}\n",
    "\n",
    "a,b,g={},{},{}"
   ]
  },
  {
   "cell_type": "code",
   "execution_count": 2,
   "id": "400efbff",
   "metadata": {},
   "outputs": [],
   "source": [
    "def dis(y,c):\n",
    "    \n",
    "    df=pd.DataFrame(y).T\n",
    "    df.columns = c\n",
    "    print(df)\n",
    "    \n",
    "    return pd.DataFrame(df.iloc[:,1:].to_dict(),index=df.iloc[:,0])"
   ]
  },
  {
   "cell_type": "code",
   "execution_count": 3,
   "id": "d3b7cb98",
   "metadata": {},
   "outputs": [],
   "source": [
    "def ask():\n",
    "    \n",
    "    while(True):\n",
    "        \n",
    "        for i,j in d.items():\n",
    "            \n",
    "            print(\"\\npress\",i,\"to\",j)\n",
    "        \n",
    "        x=int(input())\n",
    "        \n",
    "        if x==1:\n",
    "            \n",
    "            get(a,b,x)\n",
    "            dis(a,[\"name\",\"quantity\",\"price\"]).to_excel(\"grocery_store.xlsx\")\n",
    "            \n",
    "        elif x==2:\n",
    "            \n",
    "            for i in range(len(pd.read_excel(\"grocery_store.xlsx\"))):\n",
    "                \n",
    "                l=list(pd.read_excel(\"grocery_store.xlsx\").reset_index(drop=True).iloc[i])\n",
    "                a[l[0]]=l\n",
    "                \n",
    "            get(a,b,x)\n",
    "            dis(g,[\"name\",\"quantity\",\"price\",\"total\"]).to_excel(\"grocery_store_item_purchased.xlsx\")\n",
    "            dis(a,[\"name\",\"remaining\",\"price\"]).to_excel(\"grocery_store_item_remain.xlsx\")\n",
    "            \n",
    "        elif x==3:\n",
    "            \n",
    "            print(\"Thanks\")\n",
    "            break\n",
    "            \n",
    "    else:\n",
    "        \n",
    "        print(\"Wrong input\")"
   ]
  },
  {
   "cell_type": "code",
   "execution_count": 4,
   "id": "cf134d1e",
   "metadata": {},
   "outputs": [],
   "source": [
    "def get(a,b,x):\n",
    "    \n",
    "    while(True):\n",
    "        \n",
    "        if x==2:\n",
    "            \n",
    "            dis(a, [\"name\",\"quantity\",\"price\"])\n",
    "            \n",
    "        s=input(d[x]).split()\n",
    "        \n",
    "        if x==1:\n",
    "            \n",
    "            a[s[0]]=s\n",
    "            \n",
    "        else:\n",
    "            \n",
    "            b[s[0]]=s\n",
    "            \n",
    "            if s[0] in a:\n",
    "                \n",
    "                g[s[0]]=[s[0],int(s[1]),a[s[0]][2],int(s[1])*int(a[s[0]][2])]\n",
    "                a[s[0]]=[s[0],int(a[s[0]][1])-int(s[1]),int(a[s[0]][2])]\n",
    "        \n",
    "        if(input(\"Continue? y/n  :\") not in [\"y\",\"Y\"]):\n",
    "            \n",
    "            print(\"you can not\",d[x][:28])\n",
    "            del d[x]\n",
    "            break "
   ]
  },
  {
   "cell_type": "code",
   "execution_count": 5,
   "id": "4611f918",
   "metadata": {},
   "outputs": [
    {
     "name": "stdout",
     "output_type": "stream",
     "text": [
      "\n",
      "press 1 to Add grocery items to store  [name, quantity, price] :\n",
      "\n",
      "press 2 to Buy grocery items from store [name, quantity] :\n",
      "\n",
      "press 3 to exit\n",
      "1\n",
      "Add grocery items to store  [name, quantity, price] :a 10 10\n",
      "Continue? y/n  :y\n",
      "Add grocery items to store  [name, quantity, price] :b 8 20\n",
      "Continue? y/n  :y\n",
      "Add grocery items to store  [name, quantity, price] :c 12 15\n",
      "Continue? y/n  :n\n",
      "you can not Add grocery items to store  \n",
      "  name quantity price\n",
      "a    a       10    10\n",
      "b    b        8    20\n",
      "c    c       12    15\n",
      "\n",
      "press 2 to Buy grocery items from store [name, quantity] :\n",
      "\n",
      "press 3 to exit\n",
      "3\n",
      "Thanks\n"
     ]
    }
   ],
   "source": [
    "ask()"
   ]
  },
  {
   "cell_type": "code",
   "execution_count": 6,
   "id": "ed493452",
   "metadata": {},
   "outputs": [
    {
     "name": "stdout",
     "output_type": "stream",
     "text": [
      "\n",
      "press 2 to Buy grocery items from store [name, quantity] :\n",
      "\n",
      "press 3 to exit\n",
      "2\n",
      "  name quantity price\n",
      "a    a       10    10\n",
      "b    b        8    20\n",
      "c    c       12    15\n",
      "Buy grocery items from store [name, quantity] :a 5\n",
      "Continue? y/n  :y\n",
      "  name quantity price\n",
      "a    a        5    10\n",
      "b    b        8    20\n",
      "c    c       12    15\n",
      "Buy grocery items from store [name, quantity] :b 3\n",
      "Continue? y/n  :y\n",
      "  name quantity price\n",
      "a    a        5    10\n",
      "b    b        5    20\n",
      "c    c       12    15\n",
      "Buy grocery items from store [name, quantity] :c 10\n",
      "Continue? y/n  :n\n",
      "you can not Buy grocery items from store\n",
      "  name quantity price total\n",
      "a    a        5    10    50\n",
      "b    b        3    20    60\n",
      "c    c       10    15   150\n",
      "  name remaining price\n",
      "a    a         5    10\n",
      "b    b         5    20\n",
      "c    c         2    15\n",
      "\n",
      "press 3 to exit\n",
      "3\n",
      "Thanks\n"
     ]
    }
   ],
   "source": [
    "ask()"
   ]
  }
 ],
 "metadata": {
  "kernelspec": {
   "display_name": "Python 3 (ipykernel)",
   "language": "python",
   "name": "python3"
  },
  "language_info": {
   "codemirror_mode": {
    "name": "ipython",
    "version": 3
   },
   "file_extension": ".py",
   "mimetype": "text/x-python",
   "name": "python",
   "nbconvert_exporter": "python",
   "pygments_lexer": "ipython3",
   "version": "3.9.7"
  }
 },
 "nbformat": 4,
 "nbformat_minor": 5
}
